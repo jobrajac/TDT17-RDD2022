{
 "cells": [
  {
   "cell_type": "code",
   "execution_count": 12,
   "metadata": {},
   "outputs": [],
   "source": [
    "import os\n",
    "from sklearn.model_selection import train_test_split\n",
    "import yaml\n",
    "import xml.etree.ElementTree as ET\n",
    "import xml2yolo\n",
    "import shutil"
   ]
  },
  {
   "cell_type": "markdown",
   "metadata": {},
   "source": [
    "Annotate dataset with labels and filter out images with labels others than the four we are interested in.\n",
    "The parsed dataset are saved to ./dataset"
   ]
  },
  {
   "cell_type": "code",
   "execution_count": 13,
   "metadata": {},
   "outputs": [
    {
     "name": "stdout",
     "output_type": "stream",
     "text": [
      "Dataset folder already exists. Delete folder if you want to recreate it.\n"
     ]
    }
   ],
   "source": [
    "from shutil import copyfile\n",
    "\n",
    "\n",
    "with open(\"env.yaml\", 'r') as stream:\n",
    "    env_yaml = yaml.safe_load(stream)\n",
    "\n",
    "path_rdd2020 = env_yaml[\"PATHRD2022\"]\n",
    "path_nor_images = path_rdd2020 + \"/Norway/train/images\"\n",
    "path_nor_annotations = path_rdd2020 + \"/Norway/train/annotations/xmls\"\n",
    "\n",
    "wdir = env_yaml[\"WDIR\"]\n",
    "path_parsed_annotations = wdir + r\"dataset/Annotations\"\n",
    "path_parsed_images = wdir + r\"dataset/JPEGImages\"\n",
    "labels = [\"D00\", \"D10\", \"D20\", \"D40\"]\n",
    "\n",
    "images = os.listdir(path_nor_images)\n",
    "annotations = os.listdir(path_nor_annotations)\n",
    "\n",
    "try:\n",
    "    os.makedirs(\"./dataset\", exist_ok=False)\n",
    "    os.makedirs(\"./dataset/Annotations\", exist_ok=True)\n",
    "    os.makedirs(\"./dataset/JPEGImages\", exist_ok=True)\n",
    "\n",
    "    for annotation in annotations:\n",
    "        tree = ET.parse(os.path.join(path_nor_annotations, annotation))\n",
    "        root = tree.getroot()\n",
    "        \n",
    "        for obj in root.findall(\"object\"):\n",
    "            lb = obj.find(\"name\").text\n",
    "            if lb not in labels:\n",
    "                root.remove(obj)\n",
    "            \n",
    "        if len(root.findall(\"object\")) > 0:\n",
    "            out = os.path.join(path_parsed_annotations, annotation)\n",
    "            tree.write(out)\n",
    "            jpeg_name = annotation.split(\".\")[0] + \".jpg\"\n",
    "            copyfile(os.path.join(path_nor_images, jpeg_name), os.path.join(path_parsed_images, jpeg_name))\n",
    "except:\n",
    "    print(\"Dataset folder already exists. Delete folder if you want to recreate it.\")\n"
   ]
  },
  {
   "cell_type": "markdown",
   "metadata": {},
   "source": [
    "Create a file with the paths to all the annotated images. "
   ]
  },
  {
   "cell_type": "code",
   "execution_count": null,
   "metadata": {},
   "outputs": [],
   "source": [
    "with open(\"./all_xml_annotations.txt\", \"w\") as f:\n",
    "    parsed_annotations = os.listdir(path_parsed_images)\n",
    "    for annotation in parsed_annotations:\n",
    "        f.writelines(os.path.join(path_parsed_annotations, annotation)+ \"\\n\")\n"
   ]
  },
  {
   "cell_type": "markdown",
   "metadata": {},
   "source": [
    "Run xml2yolo.py to convert from our format to YOLO format. \n",
    "Here we use a snippet from one of the contestants in 2018.\n",
    "See https://github.com/dweeptrivedi/road-damage-detection/blob/master/examples/xml2Yolo_sample.txt\n",
    "\n",
    "This created the folder labels under dataset."
   ]
  },
  {
   "cell_type": "code",
   "execution_count": null,
   "metadata": {},
   "outputs": [],
   "source": [
    "xml2yolo.main('all_xml_annotations.txt', 'labels.txt')\n"
   ]
  },
  {
   "cell_type": "code",
   "execution_count": null,
   "metadata": {},
   "outputs": [],
   "source": [
    "shutil.copytree('./dataset/labels/', './dataset/JPEGImages/', dirs_exist_ok=True)"
   ]
  },
  {
   "cell_type": "markdown",
   "metadata": {},
   "source": [
    "Split our images into 80% training and 20% validation.\n",
    "Write the file paths of the split images to files."
   ]
  },
  {
   "cell_type": "code",
   "execution_count": null,
   "metadata": {},
   "outputs": [],
   "source": [
    "# Split into train validate sets\n",
    "parsed_images = os.listdir(path_parsed_images)\n",
    "ds_train, ds_val = train_test_split(parsed_images, test_size=0.2)\n",
    "\n",
    "with open(wdir+\"no-train.txt\", \"w\") as f:\n",
    "    for t in ds_train:\n",
    "        f.writelines(os.path.join(path_parsed_images, t) + \"\\n\")\n",
    "\n",
    "with open(wdir+\"no-val.txt\", \"w\") as f:\n",
    "    for t in ds_val:\n",
    "        f.writelines(os.path.join(path_parsed_images, t) + \"\\n\")"
   ]
  },
  {
   "cell_type": "markdown",
   "metadata": {},
   "source": [
    "Run yolov7 train.py"
   ]
  },
  {
   "cell_type": "code",
   "execution_count": null,
   "metadata": {},
   "outputs": [],
   "source": [
    "!python /path/to/yolov7/train.py --workers 2 --device 0 --batch-size 7 --cache --data ./data.yaml --img 640 640 --weights yolov7.pt --name yolov7 --save_period 5"
   ]
  },
  {
   "cell_type": "markdown",
   "metadata": {},
   "source": [
    "After this is done a new folder is created at yolov7/runs/exp or something similar\n",
    "Run the command below on the test set with the created weights to get predictions\n",
    "\n",
    "Use --nosave to skip saving the images"
   ]
  },
  {
   "cell_type": "code",
   "execution_count": null,
   "metadata": {},
   "outputs": [],
   "source": [
    "!python /path/to/yolov7/detect.py --source /path/to/RDD2022/RDD2022/RDD2022_all_countries/Norway/test/images --weights /path/to/yolov7/runs/exp/best.pt --img-size 640 640 --conf-thres 0.35 --augment --save-txt"
   ]
  },
  {
   "cell_type": "markdown",
   "metadata": {},
   "source": [
    "This creates prediction files in yolov7/runs/detect/exp\n",
    "run convert_detect_format.py to parse the results into a submittable format\n",
    "\n",
    "This creates the output submission.csv with prediction boxes for each image in the test folder"
   ]
  },
  {
   "cell_type": "code",
   "execution_count": null,
   "metadata": {},
   "outputs": [],
   "source": [
    "import convert_detect_format\n",
    "\n",
    "y7 = env_yaml[\"YOLOV7PATH\"]\n",
    "test_images = path_rdd2020 + \"/Norway/test/images\"\n",
    "detect_folder = y7 + \"runs/detect/exp3/labels\"\n",
    "convert_detect_format.run(detect_folder, test_images)"
   ]
  }
 ],
 "metadata": {
  "accelerator": "GPU",
  "colab": {
   "collapsed_sections": [],
   "include_colab_link": true,
   "name": "YOLOv5 Tutorial",
   "provenance": [],
   "toc_visible": true
  },
  "kernelspec": {
   "display_name": "Python 3.10.1 ('venv': venv)",
   "language": "python",
   "name": "python3"
  },
  "language_info": {
   "codemirror_mode": {
    "name": "ipython",
    "version": 3
   },
   "file_extension": ".py",
   "mimetype": "text/x-python",
   "name": "python",
   "nbconvert_exporter": "python",
   "pygments_lexer": "ipython3",
   "version": "3.10.1"
  },
  "vscode": {
   "interpreter": {
    "hash": "5d0b904a5e9cdcd921c7ad1ff72e712d03ed92c7965dd471f8f8ce2a99e6dc2b"
   }
  }
 },
 "nbformat": 4,
 "nbformat_minor": 1
}
